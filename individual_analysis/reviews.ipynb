{
 "cells": [
  {
   "cell_type": "code",
   "execution_count": 1,
   "metadata": {},
   "outputs": [],
   "source": [
    "import duckdb as ddb\n",
    "import matplotlib.pyplot as plt\n",
    "import pandas as pd\n",
    "import matplotlib.gridspec as gridspec\n",
    "\n",
    "data = ddb.read_parquet(\"all_reviews/all_reviews.parquet\")"
   ]
  },
  {
   "cell_type": "code",
   "execution_count": null,
   "metadata": {},
   "outputs": [
    {
     "name": "stdout",
     "output_type": "stream",
     "text": [
      "game:  VARCHAR\n",
      "author_steamid:  BIGINT\n",
      "author_num_games_owned:  INTEGER\n",
      "author_num_reviews:  INTEGER\n",
      "author_playtime_forever:  INTEGER\n",
      "author_playtime_last_two_weeks:  INTEGER\n",
      "author_playtime_at_review:  BIGINT\n",
      "author_last_played:  INTEGER\n",
      "language:  VARCHAR\n",
      "review:  VARCHAR\n",
      "timestamp_created:  INTEGER\n",
      "timestamp_updated:  INTEGER\n",
      "voted_up:  INTEGER\n",
      "votes_up:  INTEGER\n",
      "votes_funny:  INTEGER\n",
      "weighted_vote_score:  FLOAT\n",
      "comment_count:  INTEGER\n",
      "steam_purchase:  INTEGER\n",
      "received_for_free:  INTEGER\n",
      "written_during_early_access:  INTEGER\n"
     ]
    }
   ],
   "source": [
    "# columns and types\n",
    "for x, item in enumerate(data.columns):\n",
    "    print(str(item) + \":  \" + str(data.dtypes[x]))"
   ]
  },
  {
   "cell_type": "code",
   "execution_count": null,
   "metadata": {},
   "outputs": [
    {
     "name": "stdout",
     "output_type": "stream",
     "text": [
      "['game', 'author_steamid', 'author_num_games_owned', 'author_num_reviews', 'author_playtime_forever', 'author_playtime_last_two_weeks', 'author_playtime_at_review', 'author_last_played', 'language', 'review', 'timestamp_created', 'timestamp_updated', 'voted_up', 'votes_up', 'votes_funny', 'weighted_vote_score', 'comment_count', 'steam_purchase', 'received_for_free', 'written_during_early_access']\n",
      "┌─────────┬─────────────────────────────┬───────────────────────┬────────────────────────┬────────────────────┬─────────────────────────┬────────────────────────────────┬───────────────────────────┬────────────────────┬────────────┬───────────────────────────────────────────────┬────────────────────┬────────────────────┬───────────────────┬────────────────────┬────────────────────┬─────────────────────┬─────────────────────┬─────────────────────┬─────────────────────┬─────────────────────────────┐\n",
      "│  aggr   │            game             │    author_steamid     │ author_num_games_owned │ author_num_reviews │ author_playtime_forever │ author_playtime_last_two_weeks │ author_playtime_at_review │ author_last_played │  language  │                    review                     │ timestamp_created  │ timestamp_updated  │     voted_up      │      votes_up      │    votes_funny     │ weighted_vote_score │    comment_count    │   steam_purchase    │  received_for_free  │ written_during_early_access │\n",
      "│ varchar │           varchar           │        double         │         double         │       double       │         double          │             double             │          double           │       double       │  varchar   │                    varchar                    │       double       │       double       │      double       │       double       │       double       │       double        │       double        │       double        │       double        │           double            │\n",
      "├─────────┼─────────────────────────────┼───────────────────────┼────────────────────────┼────────────────────┼─────────────────────────┼────────────────────────────────┼───────────────────────────┼────────────────────┼────────────┼───────────────────────────────────────────────┼────────────────────┼────────────────────┼───────────────────┼────────────────────┼────────────────────┼─────────────────────┼─────────────────────┼─────────────────────┼─────────────────────┼─────────────────────────────┤\n",
      "│ count   │ 61723212                    │            61723212.0 │             61723212.0 │         61723212.0 │              61723207.0 │                     61723207.0 │                61723212.0 │         61723207.0 │ 61723212   │ 61723212                                      │         61723212.0 │         61723212.0 │        61723212.0 │         61723212.0 │         61723212.0 │          61723212.0 │          61723212.0 │          61723212.0 │          61723212.0 │                  61723212.0 │\n",
      "│ mean    │ NULL                        │  7.65611984279728e+16 │     131.60988549980192 │ 27.596691808585724 │       11906.69962067914 │              79.47407902833046 │         5422.220604786413 │ 1608754703.9143345 │ NULL       │ NULL                                          │ 1598136232.1612756 │ 1601422159.0701976 │ 0.852212859564081 │  2.520361853495246 │ 0.7478712870613409 │  0.1791858743697758 │ 0.11014601767646182 │  0.6613504980913826 │ 0.03768677819294304 │         0.10822831125509152 │\n",
      "│ stddev  │ NULL                        │    439783452.40787333 │       487.149867419368 │ 186.30282090595253 │      39321.678531011275 │              541.8909681956509 │         20990.17959467299 │ 229278375.47867727 │ NULL       │ NULL                                          │  85013111.51993743 │  83779576.80808589 │ 0.354888860910277 │ 41.494097263988486 │ 20.171493878189054 │ 0.25127853761215674 │   1.780549638668285 │ 0.47325048377599904 │  0.1904376158481947 │         0.31066854598049354 │\n",
      "│ min     │                             │ 7.656119796026573e+16 │                    0.0 │                1.0 │                     0.0 │                            0.0 │                       0.0 │                0.0 │ brazilian  │ \\2                                            │       1287181492.0 │       1287181492.0 │               0.0 │                0.0 │              -12.0 │                 0.0 │                -1.0 │                 0.0 │                 0.0 │                         0.0 │\n",
      "│ max     │ 🕌魔塔与6️⃣勇者  (Six Braves) │  7.65611995685682e+16 │                33345.0 │            10446.0 │               5839020.0 │                        31595.0 │                 4405056.0 │       1699031117.0 │ vietnamese │ 󰀐󰀐󰀐󰀐󰀐󰀐󰀐󰀐󰀐󰀐󰀐󰀐󰀐󰀐󰀐󰀐󰀐󰀐󰀐󰀐󰀐󰀐󰀐󰀐󰀐󰀐󰀐󰀐󰀐󰀐󰀐󰀐󰀐󰀐󰀐󰀐󰀐󰀐󰀐󰀐󰀐󰀐󰀐󰀐󰀐 │       1699028185.0 │       1699029323.0 │               1.0 │            62199.0 │            24987.0 │  0.9981406331062317 │              4890.0 │                 1.0 │                 1.0 │                         1.0 │\n",
      "│ median  │ NULL                        │ 7.656119823752058e+16 │                    0.0 │                6.0 │                  1960.0 │                            0.0 │                     794.0 │       1668501057.0 │ NULL       │ NULL                                          │       1623229157.5 │       1626347134.5 │               1.0 │                0.0 │                0.0 │                 0.0 │                 0.0 │                 1.0 │                 0.0 │                         0.0 │\n",
      "└─────────┴─────────────────────────────┴───────────────────────┴────────────────────────┴────────────────────┴─────────────────────────┴────────────────────────────────┴───────────────────────────┴────────────────────┴────────────┴───────────────────────────────────────────────┴────────────────────┴────────────────────┴───────────────────┴────────────────────┴────────────────────┴─────────────────────┴─────────────────────┴─────────────────────┴─────────────────────┴─────────────────────────────┘\n",
      "\n"
     ]
    }
   ],
   "source": [
    "# print(data.describe())\n"
   ]
  },
  {
   "cell_type": "code",
   "execution_count": null,
   "metadata": {},
   "outputs": [
    {
     "name": "stdout",
     "output_type": "stream",
     "text": [
      "   user_id     avg_dist\n",
      "0  5160944  1379.085118\n",
      "1  6031349  1341.881405\n",
      "2   102799  1334.697030\n",
      "3  7285664  1327.378560\n",
      "4  6059850  1320.024138\n",
      "5  3478514  1310.574134\n",
      "6  6414017  1301.147320\n",
      "7  3342586  1296.243675\n",
      "8  8520573  1295.947087\n",
      "9  6493276  1289.837205\n"
     ]
    }
   ],
   "source": [
    "# review scores in early access vs not\n",
    "#   which games had a high jump from early access / drop in review score after full release\n",
    "\n",
    "# plan: \n",
    "#   gather the top 3 games the most amount of reviews\n",
    "#   find out the percentage of positive vs negative reviews\n",
    "#   then find out the percentages from those who got the games in early access vs. full release\n",
    "#   analyze which games had which results, and do some further research on why this may be\n",
    "#       this could be finding the reviews with the highest helpfulness or most upvotes\n",
    "#       this could also include doing some outside reseach on reddit / internet\n",
    "\n",
    "most_reviewed_games = ddb.sql(f\"\"\"\n",
    "    WITH ranked_games AS (\n",
    "                        \n",
    "                              )\n",
    "\"\"\").fetchdf()\n",
    "\n",
    "print(most_reviewed_games)"
   ]
  },
  {
   "cell_type": "code",
   "execution_count": null,
   "metadata": {},
   "outputs": [],
   "source": [
    "# - review scores from those who got the game for free vs those who had to pay for it\n",
    "#     - is there an average of a higher rating for free? for what games?\n",
    "avg_distances = ddb.sql(f\"\"\"\n",
    "    \n",
    "\"\"\").fetchdf()\n",
    "\n",
    "print(avg_distances.head(10))"
   ]
  }
 ],
 "metadata": {
  "kernelspec": {
   "display_name": "Python 3",
   "language": "python",
   "name": "python3"
  },
  "language_info": {
   "codemirror_mode": {
    "name": "ipython",
    "version": 3
   },
   "file_extension": ".py",
   "mimetype": "text/x-python",
   "name": "python",
   "nbconvert_exporter": "python",
   "pygments_lexer": "ipython3",
   "version": "3.10.12"
  }
 },
 "nbformat": 4,
 "nbformat_minor": 2
}
