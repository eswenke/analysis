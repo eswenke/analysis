{
 "cells": [
  {
   "cell_type": "code",
   "execution_count": 1,
   "metadata": {},
   "outputs": [],
   "source": [
    "from pyspark.sql import SparkSession\n",
    "from pyspark.sql import functions as F\n",
    "\n",
    "spark = SparkSession \\\n",
    "    .builder \\\n",
    "    .appName(\"Spark SQL\") \\\n",
    "    .getOrCreate()\n",
    "\n",
    "# Step 2: Read the Parquet file\n",
    "df = spark.read.parquet(\"../week3/rplace.parquet\")\n",
    "\n",
    "# Step 3: Create a temporary view\n",
    "df.createOrReplaceTempView(\"data\")\n"
   ]
  },
  {
   "cell_type": "code",
   "execution_count": null,
   "metadata": {},
   "outputs": [],
   "source": [
    "# NOT RUNNABLE WITHOUT CRASHING SPARK ******************\n",
    "\n",
    "# find user with the highest average distance between pixel placements\n",
    "\n",
    "# find all users with more than 100 placements\n",
    "# result = spark.sql(f\"\"\"\n",
    "#     SELECT\n",
    "#         user_id_numeric,\n",
    "#         COUNT(*) AS placement_count\n",
    "#     FROM data\n",
    "#     GROUP BY user_id_numeric\n",
    "#     HAVING COUNT(*) > 100\n",
    "#     ORDER BY placement_count DESC\n",
    "# \"\"\")\n",
    "\n",
    "# result.show(10)\n",
    "\n",
    "# spark.stop()"
   ]
  },
  {
   "cell_type": "code",
   "execution_count": null,
   "metadata": {},
   "outputs": [],
   "source": [
    "# NOT RUNNABLE WITHOUT CRASHING SPARK ******************\n",
    "\n",
    "# grab all users who only placed one pixel\n",
    "# result = spark.sql(f\"\"\"\n",
    "#     SELECT\n",
    "#         user_id_numeric\n",
    "#     FROM data\n",
    "#     GROUP BY user_id_numeric\n",
    "#     HAVING COUNT(*) = 1\n",
    "# \"\"\")\n",
    "\n",
    "# result.show(10)\n",
    "\n",
    "# spark.stop()"
   ]
  },
  {
   "cell_type": "code",
   "execution_count": null,
   "metadata": {},
   "outputs": [],
   "source": [
    "# NOT RUNNABLE WITHOUT CRASHING SPARK ******************\n",
    "\n",
    "# find the user with the most colorful placements\n",
    "\n",
    "# grab top ten users by number of unique colors placed\n",
    "# result = spark.sql(f\"\"\"\n",
    "#     SELECT \n",
    "#         user_id_numeric, \n",
    "#         COUNT(DISTINCT pixel_color) AS color_count\n",
    "#     FROM data \n",
    "#     GROUP BY user_id_numeric\n",
    "#     ORDER BY color_count DESC\n",
    "#     LIMIT 10\n",
    "# \"\"\")\n",
    "\n",
    "# result = df.select(\"user_id_numeric\", \"pixel_color\") \\\n",
    "#     .groupBy(\"user_id_numeric\") \\\n",
    "#     .agg(F.countDistinct(\"pixel_color\").alias(\"color_count\")) \\\n",
    "#     .orderBy(F.desc(\"color_count\")) \\\n",
    "#     .limit(10)\n",
    "\n",
    "# result.show(10)\n",
    "\n",
    "# spark.stop()"
   ]
  },
  {
   "cell_type": "markdown",
   "metadata": {},
   "source": [
    "## Ideas\n",
    "1. Most colorful user\n",
    "- Initially tried this approach, but the queries required could not be completed on Apache Spark without crashing the spark session and disallowing any further queries to be run unless I restarted the IDE. To inefficient to keep chasing.\n",
    "2. User with the most distance placed between pixels on average\n",
    "- Suffered the same fate as idea 1: not enough memory to do a meaningful query. Potentially possible to batch queries that cause this much grief, but I have a feeling that would be incredibly tedious and difficult to do correctly, assuming it is possible with what I want to do for these ideas.\n",
    "3. 1 time user statistics vs 2-25 vs 26-100 \n",
    "- Again, not enough memory. Going to try to do these ideas in duckDB and then come back to spark and try my hand at batching in some queries."
   ]
  }
 ],
 "metadata": {
  "kernelspec": {
   "display_name": "Python 3",
   "language": "python",
   "name": "python3"
  },
  "language_info": {
   "codemirror_mode": {
    "name": "ipython",
    "version": 3
   },
   "file_extension": ".py",
   "mimetype": "text/x-python",
   "name": "python",
   "nbconvert_exporter": "python",
   "pygments_lexer": "ipython3",
   "version": "3.9.13"
  }
 },
 "nbformat": 4,
 "nbformat_minor": 2
}
