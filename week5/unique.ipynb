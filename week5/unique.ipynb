{
 "cells": [
  {
   "cell_type": "code",
   "execution_count": null,
   "metadata": {},
   "outputs": [],
   "source": [
    "from colory.color import Color\n",
    "from datetime import datetime\n",
    "import duckdb as ddb\n",
    "import numpy as np\n",
    "import pandas as pd\n",
    "import matplotlib.pyplot as plt\n",
    "import seaborn as sns\n",
    "\n",
    "data = ddb.read_parquet(\"../week3/rplace.parquet\")\n",
    "\n",
    "pixel_data = ddb.sql(f\"\"\"\n",
    "    SELECT \n",
    "\"\"\").fetchdf()\n",
    "\n",
    "\n",
    "# print()"
   ]
  }
 ],
 "metadata": {
  "kernelspec": {
   "display_name": "Python 3",
   "language": "python",
   "name": "python3"
  },
  "language_info": {
   "name": "python",
   "version": "3.9.13"
  }
 },
 "nbformat": 4,
 "nbformat_minor": 2
}
