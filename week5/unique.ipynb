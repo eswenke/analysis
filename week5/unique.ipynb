{
 "cells": [
  {
   "cell_type": "code",
   "execution_count": 4,
   "metadata": {},
   "outputs": [],
   "source": [
    "from colory.color import Color\n",
    "import duckdb as ddb\n",
    "\n",
    "data = ddb.read_parquet(\"../week3/rplace.parquet\")"
   ]
  },
  {
   "cell_type": "code",
   "execution_count": null,
   "metadata": {},
   "outputs": [],
   "source": [
    "# find the user with the highest avg distance between pixel placements (min 100 placements)\n",
    "avg_distances = ddb.sql(f\"\"\"\n",
    "    WITH min_100 AS (\n",
    "        SELECT\n",
    "            user_id_numeric,\n",
    "        FROM data\n",
    "        GROUP BY user_id_numeric\n",
    "        HAVING COUNT(*) >= 100  \n",
    "    ), user_coords AS (\n",
    "        SELECT\n",
    "            d.user_id_numeric as user_id,\n",
    "            x,\n",
    "            y,\n",
    "            LAG(x) OVER (PARTITION BY user_id ORDER BY timestamp) AS prev_x,\n",
    "            LAG(y) OVER (PARTITION BY user_id ORDER BY timestamp) AS prev_y,\n",
    "            timestamp\n",
    "        FROM data AS d\n",
    "        JOIN min_100 AS m ON m.user_id_numeric = d.user_id_numeric\n",
    "        ORDER BY user_id, timestamp\n",
    "    ), distances AS (\n",
    "        SELECT\n",
    "            user_id,\n",
    "            ROUND(SQRT(POWER(x - prev_x, 2) + POWER(y - prev_y, 2)), 2) as eucl_dist\n",
    "        FROM user_coords\n",
    "        WHERE prev_x IS NOT NULL AND prev_y IS NOT NULL\n",
    "    )\n",
    "    SELECT\n",
    "        user_id,\n",
    "        AVG(eucl_dist) as avg_dist\n",
    "    FROM distances\n",
    "    GROUP BY user_id\n",
    "    ORDER BY avg_dist DESC\n",
    "\"\"\").fetchdf()\n",
    "\n",
    "# print(avg_distances.head(10))"
   ]
  },
  {
   "cell_type": "code",
   "execution_count": 6,
   "metadata": {},
   "outputs": [],
   "source": [
    "# get the top 10 users with the most unique colors placed\n",
    "# pixel_data = ddb.sql(f\"\"\"\n",
    "#     SELECT \n",
    "#         user_id_numeric, \n",
    "#         COUNT(DISTINCT pixel_color) AS color_count\n",
    "#     FROM data \n",
    "#     GROUP BY user_id_numeric\n",
    "#     ORDER BY color_count DESC\n",
    "#     LIMIT 10\n",
    "# \"\"\").fetchdf()\n",
    "\n",
    "# print(pixel_data)"
   ]
  },
  {
   "cell_type": "markdown",
   "metadata": {},
   "source": [
    "## Ideas\n",
    "1. Most colorful user\n",
    "- In duckDB this query works: realized the color pallet was very small and the max amount of unique colors possible to color was very low, so this is not interesting.\n",
    "2. User with the most distance placed between pixels on average\n",
    "- \n",
    "3. 1 time user statistics vs 2-25 vs 26-100 \n",
    "- "
   ]
  }
 ],
 "metadata": {
  "kernelspec": {
   "display_name": "Python 3",
   "language": "python",
   "name": "python3"
  },
  "language_info": {
   "codemirror_mode": {
    "name": "ipython",
    "version": 3
   },
   "file_extension": ".py",
   "mimetype": "text/x-python",
   "name": "python",
   "nbconvert_exporter": "python",
   "pygments_lexer": "ipython3",
   "version": "3.9.13"
  }
 },
 "nbformat": 4,
 "nbformat_minor": 2
}
