{
 "cells": [
  {
   "cell_type": "code",
   "execution_count": 4,
   "metadata": {},
   "outputs": [],
   "source": [
    "from colory.color import Color\n",
    "import duckdb as ddb\n",
    "\n",
    "data = ddb.read_parquet(\"../week3/rplace.parquet\")"
   ]
  },
  {
   "cell_type": "code",
   "execution_count": 8,
   "metadata": {},
   "outputs": [
    {
     "name": "stdout",
     "output_type": "stream",
     "text": [
      "        user_id_numeric  placement_count\n",
      "0               3595839              795\n",
      "1               4993766              781\n",
      "2               2779385              777\n",
      "3               5179920              767\n",
      "4               3693412              767\n",
      "...                 ...              ...\n",
      "227246          2949085              100\n",
      "227247           313969              100\n",
      "227248          7038184              100\n",
      "227249          4881305              100\n",
      "227250           184942              100\n",
      "\n",
      "[227251 rows x 2 columns]\n"
     ]
    }
   ],
   "source": [
    "# find the user with the highest avg distance between pixel placements (min 100 placements)\n",
    "\n",
    "# begin with find users with a min 100 placements\n",
    "pixel_data = ddb.sql(f\"\"\"\n",
    "    SELECT\n",
    "        user_id_numeric,\n",
    "        COUNT(*) AS placement_count\n",
    "    FROM data\n",
    "    GROUP BY user_id_numeric\n",
    "    HAVING COUNT(*) >= 100\n",
    "    ORDER BY placement_count DESC\n",
    "\"\"\").fetchdf()\n",
    "\n",
    "print(pixel_data)"
   ]
  },
  {
   "cell_type": "code",
   "execution_count": 6,
   "metadata": {},
   "outputs": [],
   "source": [
    "# get the top 10 users with the most unique colors placed\n",
    "# pixel_data = ddb.sql(f\"\"\"\n",
    "#     SELECT \n",
    "#         user_id_numeric, \n",
    "#         COUNT(DISTINCT pixel_color) AS color_count\n",
    "#     FROM data \n",
    "#     GROUP BY user_id_numeric\n",
    "#     ORDER BY color_count DESC\n",
    "#     LIMIT 10\n",
    "# \"\"\").fetchdf()\n",
    "\n",
    "# print(pixel_data)"
   ]
  },
  {
   "cell_type": "markdown",
   "metadata": {},
   "source": [
    "## Ideas\n",
    "1. Most colorful user\n",
    "- In duckDB this query works: realized the color pallet was very small and the max amount of unique colors possible to color was very low, so this is not interesting.\n",
    "2. User with the most distance placed between pixels on average\n",
    "- \n",
    "3. 1 time user statistics vs 2-25 vs 26-100 \n",
    "- "
   ]
  }
 ],
 "metadata": {
  "kernelspec": {
   "display_name": "Python 3",
   "language": "python",
   "name": "python3"
  },
  "language_info": {
   "codemirror_mode": {
    "name": "ipython",
    "version": 3
   },
   "file_extension": ".py",
   "mimetype": "text/x-python",
   "name": "python",
   "nbconvert_exporter": "python",
   "pygments_lexer": "ipython3",
   "version": "3.9.13"
  }
 },
 "nbformat": 4,
 "nbformat_minor": 2
}
