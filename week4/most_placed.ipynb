{
 "cells": [
  {
   "cell_type": "code",
   "execution_count": 4,
   "metadata": {},
   "outputs": [
    {
     "name": "stdout",
     "output_type": "stream",
     "text": [
      "[(0, 0, 98807), (359, 564, 69198), (349, 564, 55230)]\n"
     ]
    }
   ],
   "source": [
    "import sys\n",
    "import time\n",
    "import duckdb as ddb\n",
    "from colory.color import Color\n",
    "from datetime import datetime\n",
    "\n",
    "data = ddb.read_parquet(\"../week3/rplace.parquet\")\n",
    "\n",
    "most_placed = ddb.sql(f\"\"\"\n",
    "    SELECT x, y, COUNT(*) as count\n",
    "    FROM data\n",
    "    GROUP BY x, y\n",
    "    ORDER BY count DESC\n",
    "    LIMIT 3\n",
    "\"\"\").fetchall()\n",
    "\n",
    "print(most_placed)\n",
    "\n"
   ]
  },
  {
   "cell_type": "markdown",
   "metadata": {},
   "source": [
    "As show by the above query on the r/place dataset, the top 3 most placed pixels and their counts are as follows:\n",
    "1. (0, 0)     98,807 times\n",
    "2. (359, 564) 69,198 times\n",
    "3. (349, 564) 55,230 times"
   ]
  },
  {
   "cell_type": "code",
   "execution_count": null,
   "metadata": {},
   "outputs": [],
   "source": [
    "most_placed = ddb.sql(f\"\"\"\n",
    "    SELECT x, y, COUNT(*) as count\n",
    "    FROM data\n",
    "    GROUP BY x, y\n",
    "    ORDER BY count DESC\n",
    "    LIMIT 3\n",
    "\"\"\").fetchall()\n",
    "\n",
    "print(most_placed)"
   ]
  }
 ],
 "metadata": {
  "kernelspec": {
   "display_name": "Python 3",
   "language": "python",
   "name": "python3"
  },
  "language_info": {
   "codemirror_mode": {
    "name": "ipython",
    "version": 3
   },
   "file_extension": ".py",
   "mimetype": "text/x-python",
   "name": "python",
   "nbconvert_exporter": "python",
   "pygments_lexer": "ipython3",
   "version": "3.10.12"
  }
 },
 "nbformat": 4,
 "nbformat_minor": 2
}
